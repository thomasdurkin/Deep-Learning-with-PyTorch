{
 "cells": [
  {
   "cell_type": "code",
   "execution_count": 164,
   "metadata": {},
   "outputs": [],
   "source": [
    "import pandas as pd\n",
    "import matplotlib.pyplot as plt\n",
    "import seaborn as sns\n",
    "import torch\n",
    "import torch.nn as nn\n",
    "import torch.optim as optim"
   ]
  },
  {
   "cell_type": "code",
   "execution_count": 165,
   "metadata": {},
   "outputs": [
    {
     "data": {
      "text/plain": [
       "(4898, 12)"
      ]
     },
     "execution_count": 165,
     "metadata": {},
     "output_type": "execute_result"
    }
   ],
   "source": [
    "wine_data = pd.read_csv(f'../Chapter 4/tabular-wine/winequality-white.csv', delimiter = ';')\n",
    "wine_data.shape"
   ]
  },
  {
   "cell_type": "code",
   "execution_count": 166,
   "metadata": {},
   "outputs": [
    {
     "data": {
      "text/html": [
       "<div>\n",
       "<style scoped>\n",
       "    .dataframe tbody tr th:only-of-type {\n",
       "        vertical-align: middle;\n",
       "    }\n",
       "\n",
       "    .dataframe tbody tr th {\n",
       "        vertical-align: top;\n",
       "    }\n",
       "\n",
       "    .dataframe thead th {\n",
       "        text-align: right;\n",
       "    }\n",
       "</style>\n",
       "<table border=\"1\" class=\"dataframe\">\n",
       "  <thead>\n",
       "    <tr style=\"text-align: right;\">\n",
       "      <th></th>\n",
       "      <th>fixed acidity</th>\n",
       "      <th>volatile acidity</th>\n",
       "      <th>citric acid</th>\n",
       "      <th>residual sugar</th>\n",
       "      <th>chlorides</th>\n",
       "      <th>free sulfur dioxide</th>\n",
       "      <th>total sulfur dioxide</th>\n",
       "      <th>density</th>\n",
       "      <th>pH</th>\n",
       "      <th>sulphates</th>\n",
       "      <th>alcohol</th>\n",
       "      <th>quality</th>\n",
       "    </tr>\n",
       "  </thead>\n",
       "  <tbody>\n",
       "    <tr>\n",
       "      <th>0</th>\n",
       "      <td>7.0</td>\n",
       "      <td>0.27</td>\n",
       "      <td>0.36</td>\n",
       "      <td>20.7</td>\n",
       "      <td>0.045</td>\n",
       "      <td>45.0</td>\n",
       "      <td>170.0</td>\n",
       "      <td>1.0010</td>\n",
       "      <td>3.00</td>\n",
       "      <td>0.45</td>\n",
       "      <td>8.8</td>\n",
       "      <td>6</td>\n",
       "    </tr>\n",
       "    <tr>\n",
       "      <th>1</th>\n",
       "      <td>6.3</td>\n",
       "      <td>0.30</td>\n",
       "      <td>0.34</td>\n",
       "      <td>1.6</td>\n",
       "      <td>0.049</td>\n",
       "      <td>14.0</td>\n",
       "      <td>132.0</td>\n",
       "      <td>0.9940</td>\n",
       "      <td>3.30</td>\n",
       "      <td>0.49</td>\n",
       "      <td>9.5</td>\n",
       "      <td>6</td>\n",
       "    </tr>\n",
       "    <tr>\n",
       "      <th>2</th>\n",
       "      <td>8.1</td>\n",
       "      <td>0.28</td>\n",
       "      <td>0.40</td>\n",
       "      <td>6.9</td>\n",
       "      <td>0.050</td>\n",
       "      <td>30.0</td>\n",
       "      <td>97.0</td>\n",
       "      <td>0.9951</td>\n",
       "      <td>3.26</td>\n",
       "      <td>0.44</td>\n",
       "      <td>10.1</td>\n",
       "      <td>6</td>\n",
       "    </tr>\n",
       "    <tr>\n",
       "      <th>3</th>\n",
       "      <td>7.2</td>\n",
       "      <td>0.23</td>\n",
       "      <td>0.32</td>\n",
       "      <td>8.5</td>\n",
       "      <td>0.058</td>\n",
       "      <td>47.0</td>\n",
       "      <td>186.0</td>\n",
       "      <td>0.9956</td>\n",
       "      <td>3.19</td>\n",
       "      <td>0.40</td>\n",
       "      <td>9.9</td>\n",
       "      <td>6</td>\n",
       "    </tr>\n",
       "    <tr>\n",
       "      <th>4</th>\n",
       "      <td>7.2</td>\n",
       "      <td>0.23</td>\n",
       "      <td>0.32</td>\n",
       "      <td>8.5</td>\n",
       "      <td>0.058</td>\n",
       "      <td>47.0</td>\n",
       "      <td>186.0</td>\n",
       "      <td>0.9956</td>\n",
       "      <td>3.19</td>\n",
       "      <td>0.40</td>\n",
       "      <td>9.9</td>\n",
       "      <td>6</td>\n",
       "    </tr>\n",
       "  </tbody>\n",
       "</table>\n",
       "</div>"
      ],
      "text/plain": [
       "   fixed acidity  volatile acidity  citric acid  residual sugar  chlorides  \\\n",
       "0            7.0              0.27         0.36            20.7      0.045   \n",
       "1            6.3              0.30         0.34             1.6      0.049   \n",
       "2            8.1              0.28         0.40             6.9      0.050   \n",
       "3            7.2              0.23         0.32             8.5      0.058   \n",
       "4            7.2              0.23         0.32             8.5      0.058   \n",
       "\n",
       "   free sulfur dioxide  total sulfur dioxide  density    pH  sulphates  \\\n",
       "0                 45.0                 170.0   1.0010  3.00       0.45   \n",
       "1                 14.0                 132.0   0.9940  3.30       0.49   \n",
       "2                 30.0                  97.0   0.9951  3.26       0.44   \n",
       "3                 47.0                 186.0   0.9956  3.19       0.40   \n",
       "4                 47.0                 186.0   0.9956  3.19       0.40   \n",
       "\n",
       "   alcohol  quality  \n",
       "0      8.8        6  \n",
       "1      9.5        6  \n",
       "2     10.1        6  \n",
       "3      9.9        6  \n",
       "4      9.9        6  "
      ]
     },
     "execution_count": 166,
     "metadata": {},
     "output_type": "execute_result"
    }
   ],
   "source": [
    "wine_data.head()"
   ]
  },
  {
   "cell_type": "code",
   "execution_count": 167,
   "metadata": {},
   "outputs": [
    {
     "data": {
      "text/plain": [
       "fixed acidity           0\n",
       "volatile acidity        0\n",
       "citric acid             0\n",
       "residual sugar          0\n",
       "chlorides               0\n",
       "free sulfur dioxide     0\n",
       "total sulfur dioxide    0\n",
       "density                 0\n",
       "pH                      0\n",
       "sulphates               0\n",
       "alcohol                 0\n",
       "quality                 0\n",
       "dtype: int64"
      ]
     },
     "execution_count": 167,
     "metadata": {},
     "output_type": "execute_result"
    }
   ],
   "source": [
    "wine_data.isnull().sum()"
   ]
  },
  {
   "cell_type": "code",
   "execution_count": 168,
   "metadata": {},
   "outputs": [
    {
     "data": {
      "text/html": [
       "<div>\n",
       "<style scoped>\n",
       "    .dataframe tbody tr th:only-of-type {\n",
       "        vertical-align: middle;\n",
       "    }\n",
       "\n",
       "    .dataframe tbody tr th {\n",
       "        vertical-align: top;\n",
       "    }\n",
       "\n",
       "    .dataframe thead th {\n",
       "        text-align: right;\n",
       "    }\n",
       "</style>\n",
       "<table border=\"1\" class=\"dataframe\">\n",
       "  <thead>\n",
       "    <tr style=\"text-align: right;\">\n",
       "      <th></th>\n",
       "      <th>fixed acidity</th>\n",
       "      <th>volatile acidity</th>\n",
       "      <th>citric acid</th>\n",
       "      <th>residual sugar</th>\n",
       "      <th>chlorides</th>\n",
       "      <th>free sulfur dioxide</th>\n",
       "      <th>total sulfur dioxide</th>\n",
       "      <th>density</th>\n",
       "      <th>pH</th>\n",
       "      <th>sulphates</th>\n",
       "      <th>alcohol</th>\n",
       "      <th>quality</th>\n",
       "    </tr>\n",
       "  </thead>\n",
       "  <tbody>\n",
       "    <tr>\n",
       "      <th>count</th>\n",
       "      <td>4898.000000</td>\n",
       "      <td>4898.000000</td>\n",
       "      <td>4898.000000</td>\n",
       "      <td>4898.000000</td>\n",
       "      <td>4898.000000</td>\n",
       "      <td>4898.000000</td>\n",
       "      <td>4898.000000</td>\n",
       "      <td>4898.000000</td>\n",
       "      <td>4898.000000</td>\n",
       "      <td>4898.000000</td>\n",
       "      <td>4898.000000</td>\n",
       "      <td>4898.000000</td>\n",
       "    </tr>\n",
       "    <tr>\n",
       "      <th>mean</th>\n",
       "      <td>6.854788</td>\n",
       "      <td>0.278241</td>\n",
       "      <td>0.334192</td>\n",
       "      <td>6.391415</td>\n",
       "      <td>0.045772</td>\n",
       "      <td>35.308085</td>\n",
       "      <td>138.360657</td>\n",
       "      <td>0.994027</td>\n",
       "      <td>3.188267</td>\n",
       "      <td>0.489847</td>\n",
       "      <td>10.514267</td>\n",
       "      <td>5.877909</td>\n",
       "    </tr>\n",
       "    <tr>\n",
       "      <th>std</th>\n",
       "      <td>0.843868</td>\n",
       "      <td>0.100795</td>\n",
       "      <td>0.121020</td>\n",
       "      <td>5.072058</td>\n",
       "      <td>0.021848</td>\n",
       "      <td>17.007137</td>\n",
       "      <td>42.498065</td>\n",
       "      <td>0.002991</td>\n",
       "      <td>0.151001</td>\n",
       "      <td>0.114126</td>\n",
       "      <td>1.230621</td>\n",
       "      <td>0.885639</td>\n",
       "    </tr>\n",
       "    <tr>\n",
       "      <th>min</th>\n",
       "      <td>3.800000</td>\n",
       "      <td>0.080000</td>\n",
       "      <td>0.000000</td>\n",
       "      <td>0.600000</td>\n",
       "      <td>0.009000</td>\n",
       "      <td>2.000000</td>\n",
       "      <td>9.000000</td>\n",
       "      <td>0.987110</td>\n",
       "      <td>2.720000</td>\n",
       "      <td>0.220000</td>\n",
       "      <td>8.000000</td>\n",
       "      <td>3.000000</td>\n",
       "    </tr>\n",
       "    <tr>\n",
       "      <th>25%</th>\n",
       "      <td>6.300000</td>\n",
       "      <td>0.210000</td>\n",
       "      <td>0.270000</td>\n",
       "      <td>1.700000</td>\n",
       "      <td>0.036000</td>\n",
       "      <td>23.000000</td>\n",
       "      <td>108.000000</td>\n",
       "      <td>0.991723</td>\n",
       "      <td>3.090000</td>\n",
       "      <td>0.410000</td>\n",
       "      <td>9.500000</td>\n",
       "      <td>5.000000</td>\n",
       "    </tr>\n",
       "    <tr>\n",
       "      <th>50%</th>\n",
       "      <td>6.800000</td>\n",
       "      <td>0.260000</td>\n",
       "      <td>0.320000</td>\n",
       "      <td>5.200000</td>\n",
       "      <td>0.043000</td>\n",
       "      <td>34.000000</td>\n",
       "      <td>134.000000</td>\n",
       "      <td>0.993740</td>\n",
       "      <td>3.180000</td>\n",
       "      <td>0.470000</td>\n",
       "      <td>10.400000</td>\n",
       "      <td>6.000000</td>\n",
       "    </tr>\n",
       "    <tr>\n",
       "      <th>75%</th>\n",
       "      <td>7.300000</td>\n",
       "      <td>0.320000</td>\n",
       "      <td>0.390000</td>\n",
       "      <td>9.900000</td>\n",
       "      <td>0.050000</td>\n",
       "      <td>46.000000</td>\n",
       "      <td>167.000000</td>\n",
       "      <td>0.996100</td>\n",
       "      <td>3.280000</td>\n",
       "      <td>0.550000</td>\n",
       "      <td>11.400000</td>\n",
       "      <td>6.000000</td>\n",
       "    </tr>\n",
       "    <tr>\n",
       "      <th>max</th>\n",
       "      <td>14.200000</td>\n",
       "      <td>1.100000</td>\n",
       "      <td>1.660000</td>\n",
       "      <td>65.800000</td>\n",
       "      <td>0.346000</td>\n",
       "      <td>289.000000</td>\n",
       "      <td>440.000000</td>\n",
       "      <td>1.038980</td>\n",
       "      <td>3.820000</td>\n",
       "      <td>1.080000</td>\n",
       "      <td>14.200000</td>\n",
       "      <td>9.000000</td>\n",
       "    </tr>\n",
       "  </tbody>\n",
       "</table>\n",
       "</div>"
      ],
      "text/plain": [
       "       fixed acidity  volatile acidity  citric acid  residual sugar  \\\n",
       "count    4898.000000       4898.000000  4898.000000     4898.000000   \n",
       "mean        6.854788          0.278241     0.334192        6.391415   \n",
       "std         0.843868          0.100795     0.121020        5.072058   \n",
       "min         3.800000          0.080000     0.000000        0.600000   \n",
       "25%         6.300000          0.210000     0.270000        1.700000   \n",
       "50%         6.800000          0.260000     0.320000        5.200000   \n",
       "75%         7.300000          0.320000     0.390000        9.900000   \n",
       "max        14.200000          1.100000     1.660000       65.800000   \n",
       "\n",
       "         chlorides  free sulfur dioxide  total sulfur dioxide      density  \\\n",
       "count  4898.000000          4898.000000           4898.000000  4898.000000   \n",
       "mean      0.045772            35.308085            138.360657     0.994027   \n",
       "std       0.021848            17.007137             42.498065     0.002991   \n",
       "min       0.009000             2.000000              9.000000     0.987110   \n",
       "25%       0.036000            23.000000            108.000000     0.991723   \n",
       "50%       0.043000            34.000000            134.000000     0.993740   \n",
       "75%       0.050000            46.000000            167.000000     0.996100   \n",
       "max       0.346000           289.000000            440.000000     1.038980   \n",
       "\n",
       "                pH    sulphates      alcohol      quality  \n",
       "count  4898.000000  4898.000000  4898.000000  4898.000000  \n",
       "mean      3.188267     0.489847    10.514267     5.877909  \n",
       "std       0.151001     0.114126     1.230621     0.885639  \n",
       "min       2.720000     0.220000     8.000000     3.000000  \n",
       "25%       3.090000     0.410000     9.500000     5.000000  \n",
       "50%       3.180000     0.470000    10.400000     6.000000  \n",
       "75%       3.280000     0.550000    11.400000     6.000000  \n",
       "max       3.820000     1.080000    14.200000     9.000000  "
      ]
     },
     "execution_count": 168,
     "metadata": {},
     "output_type": "execute_result"
    }
   ],
   "source": [
    "wine_data.describe()"
   ]
  },
  {
   "cell_type": "code",
   "execution_count": 272,
   "metadata": {},
   "outputs": [
    {
     "data": {
      "text/plain": [
       "quality\n",
       "6    2198\n",
       "5    1457\n",
       "7     880\n",
       "8     175\n",
       "4     163\n",
       "3      20\n",
       "9       5\n",
       "Name: count, dtype: int64"
      ]
     },
     "execution_count": 272,
     "metadata": {},
     "output_type": "execute_result"
    }
   ],
   "source": [
    "wine_data['quality'].value_counts()"
   ]
  },
  {
   "cell_type": "code",
   "execution_count": 171,
   "metadata": {},
   "outputs": [
    {
     "data": {
      "text/plain": [
       "<Axes: >"
      ]
     },
     "execution_count": 171,
     "metadata": {},
     "output_type": "execute_result"
    },
    {
     "data": {
      "image/png": "[encoded data removed]",
      "text/plain": [
       "<Figure size 1000x1000 with 2 Axes>"
      ]
     },
     "metadata": {},
     "output_type": "display_data"
    }
   ],
   "source": [
    "correlation = wine_data.corr()\n",
    "plt.figure(figsize=(10,10))\n",
    "sns.heatmap(correlation, cbar = True, square = True, fmt = '.1f', annot = True, annot_kws = {'size' : 8}, cmap = 'Blues')"
   ]
  },
  {
   "cell_type": "code",
   "execution_count": 172,
   "metadata": {},
   "outputs": [
    {
     "data": {
      "text/plain": [
       "(torch.Size([4898, 12]), torch.float32)"
      ]
     },
     "execution_count": 172,
     "metadata": {},
     "output_type": "execute_result"
    }
   ],
   "source": [
    "wine_t = torch.tensor(wine_data.values, dtype = torch.float32)\n",
    "wine_t.shape, wine_t.dtype"
   ]
  },
  {
   "cell_type": "code",
   "execution_count": 173,
   "metadata": {},
   "outputs": [
    {
     "data": {
      "text/plain": [
       "(tensor([[ 7.0000,  0.2700,  0.3600,  ...,  3.0000,  0.4500,  8.8000],\n",
       "         [ 6.3000,  0.3000,  0.3400,  ...,  3.3000,  0.4900,  9.5000],\n",
       "         [ 8.1000,  0.2800,  0.4000,  ...,  3.2600,  0.4400, 10.1000],\n",
       "         ...,\n",
       "         [ 6.5000,  0.2400,  0.1900,  ...,  2.9900,  0.4600,  9.4000],\n",
       "         [ 5.5000,  0.2900,  0.3000,  ...,  3.3400,  0.3800, 12.8000],\n",
       "         [ 6.0000,  0.2100,  0.3800,  ...,  3.2600,  0.3200, 11.8000]]),\n",
       " torch.Size([4898, 11]))"
      ]
     },
     "execution_count": 173,
     "metadata": {},
     "output_type": "execute_result"
    }
   ],
   "source": [
    "X = wine_t[:, :-1]\n",
    "X, X.shape"
   ]
  },
  {
   "cell_type": "code",
   "execution_count": 174,
   "metadata": {},
   "outputs": [
    {
     "data": {
      "text/plain": [
       "(tensor([6., 6., 6.,  ..., 6., 7., 6.]), torch.Size([4898]))"
      ]
     },
     "execution_count": 174,
     "metadata": {},
     "output_type": "execute_result"
    }
   ],
   "source": [
    "y = wine_t[:, -1]\n",
    "y, y.shape"
   ]
  },
  {
   "cell_type": "code",
   "execution_count": 175,
   "metadata": {},
   "outputs": [
    {
     "data": {
      "text/plain": [
       "(tensor([3549, 4870, 2248,  ..., 3304,  516, 3279]),\n",
       " tensor([3571, 3421, 1677, 1378, 3317,  842, 3018, 1111, 1369, 4320, 3060,  333,\n",
       "         3771, 4509, 3156, 3563,   57,  479, 2886, 2852, 2312, 3536,  378,   27,\n",
       "         2024, 3144,  879, 3474, 3992, 4218, 1177, 1124, 3620, 3588, 1033, 2841,\n",
       "          877, 4467, 3508, 3126, 2436, 3150, 4376,  610, 2190,  420, 3203, 4481,\n",
       "         2279, 3003, 3486, 3339, 2050, 4413, 3320, 2967, 2710, 4788,  962, 1467,\n",
       "         1470,  910, 4145, 3889, 1249, 4361, 3513,  134, 1533, 2537, 1416, 3779,\n",
       "         4185, 3589, 3658, 1340, 1704, 2297, 3382,  861, 3258, 1885,  181, 4651,\n",
       "         3515, 2873, 1804,  368,  488, 4592,  936, 1477,  532, 4197, 2827, 2238,\n",
       "         3533, 2948, 4257, 3290, 4297,  452, 1185, 4405, 4360, 1426, 1202, 3656,\n",
       "         2739, 1244,  193,  570, 4385, 4190,  403, 3691,  801, 3200, 3408,  694,\n",
       "         2477, 2409, 1767, 2547, 4717, 1502, 4733, 4540, 1781, 3275, 1144, 4252,\n",
       "          603,  406, 4816, 3972,  278, 2512,  856,  507, 4683, 1523, 4672, 4179,\n",
       "         2471, 2883,  732, 2030, 1066,  576, 2701, 3638,  245, 1925,  194, 3378,\n",
       "         4325, 1207,  750, 3872, 1445, 1774,  362,   43, 2177, 3678,  670, 1729,\n",
       "         2375, 4866, 2746, 2029,  993,   52, 4015, 4085, 3232, 4061, 4512, 1717,\n",
       "         1572, 2671, 3266, 4334, 2221, 2171, 3129,   39, 4471,    0,  440, 2696,\n",
       "         2554,  280, 3855, 3181, 4689,  239, 4748, 4118, 2129, 2958,  129, 1182,\n",
       "         3051, 3695, 4358, 3785, 4805, 2324, 2468, 3058,  922, 2855, 2441, 1001,\n",
       "         1745, 1321, 4215, 2724,  470, 3237, 2329, 3797, 2336, 2974, 2637,  364,\n",
       "           55, 3140,  958, 3545, 4636, 1281, 4195,   32, 2567, 3828,  373, 4304,\n",
       "          383,  639, 1554, 1999, 1140, 3324, 2949, 1214,  377, 2082, 3616, 1444,\n",
       "         2966, 1862, 2140, 2389,  514, 1092, 2381,  640, 4477,  414, 2300, 1902,\n",
       "         2782, 2204, 3976, 1560, 1603, 1384, 2150, 3933, 1084, 3511, 2039, 4380,\n",
       "         2744, 3544, 2930, 1620, 3202, 3524, 2031, 3825, 2611, 3558, 1919, 1871,\n",
       "         1577, 4627, 3587, 4424, 1960, 3292,   90,  148, 3984, 3769, 3750, 3179,\n",
       "         1863, 2650, 2321, 3064, 3374, 2084,  743,  794, 2187, 4440, 4356, 1583,\n",
       "         3657, 4322, 2012, 4362, 3551,  947, 2449, 2260, 2977, 4523, 2323, 4844,\n",
       "         1402, 3035,  815,   46, 1526, 1592, 4763, 4313, 3297, 1543, 3497, 1581,\n",
       "         4106, 4070,  217, 4713, 1878,  830, 4838, 4809, 3766,  706, 3130, 3608,\n",
       "         2899, 4152,  551, 4783, 4821, 2504, 1644,  697, 3738, 1189, 3739, 2530,\n",
       "         4091,  604, 1534, 3596, 2627, 4628,  579, 4541, 1845, 4513, 1838, 3434,\n",
       "          365, 3693, 2635, 3073, 2798, 1150, 1735, 3581, 4170, 3713, 3747, 4493,\n",
       "         1984, 1484,  824,  443, 2984, 1895, 2961, 4153, 2572,   83, 2703, 3799,\n",
       "         2923, 2223, 4342, 2734, 3143, 1956, 2700, 4441, 2359, 2963, 1037, 4588,\n",
       "         4813, 1631, 2293, 3385, 3745, 2461, 3614, 4017, 4284, 2451,  260,  904,\n",
       "         4623,  972, 1130,  203, 1521, 4241, 3171, 1195, 3661, 2544, 1720, 1027,\n",
       "          119,  876, 2533, 4066, 1761, 3469, 1822, 3768,  649, 3647, 3700, 4333,\n",
       "         2971,  987, 3813, 3315,  318, 1040, 4355,  416,   80, 2947, 4662, 2017,\n",
       "         4176, 2695, 3829, 1553,  431, 3830, 3435,  840, 3500, 3253,  845,  309,\n",
       "         1811, 1852, 4097,  695,  882, 2806,  502, 2395, 2229, 2438,  891,  766,\n",
       "         3210, 4710, 2569, 4243,    2, 2693,  235, 2400, 1654, 3318, 3455, 3029,\n",
       "         1464, 1850, 3397, 1476, 1663,   62,  143, 4386, 2046,   64, 3518,  823,\n",
       "         3586, 3022,  567, 2878, 1622,  253, 1439, 1307, 3177, 2069, 2931, 2578,\n",
       "         2768, 2874, 4853, 1362, 2577, 3915, 2964,  867, 1900, 4107, 1589, 2333,\n",
       "         3248, 1989, 4274, 1389, 1692, 1435, 2254, 4378, 3413, 3721,  785, 4254,\n",
       "         4308, 3577, 3152, 1328, 2599, 3858, 2579, 3950, 1025,  786, 2456, 1827,\n",
       "         3242, 3964, 4418, 4147, 3791, 2345,  777, 1157, 1746, 4156, 4476, 4079,\n",
       "         3384, 3109,  387,  678, 1019, 3086, 3392, 4614, 1013,  819, 1053,   66,\n",
       "         2891, 4206, 2941, 1299,  549, 1222, 1712, 2514, 3993,  256, 2726, 1315,\n",
       "         1290,  634, 3426,  739, 2064, 2211, 2608, 1359, 2242,  308, 2057, 1363,\n",
       "         4054, 2271,  530, 4744, 1407, 3245, 3223, 2997, 2583, 1910, 2396, 4885,\n",
       "          625, 3912, 1035, 2534, 2702,  345,  731, 3928, 1527, 1661,  330,  997,\n",
       "          166,  221, 3641, 3514, 3075,  768, 4315,  723,  352, 3619, 3464,  553,\n",
       "          850, 3918, 1260, 2911, 1951,  251, 1772, 3944,  900,  140, 4511, 2581,\n",
       "           26, 2059, 2193, 4055, 4401, 2335, 3054, 2722, 4727, 1457, 2458, 3932,\n",
       "         2013, 3451,  295, 1937, 4288, 2915, 3065, 1799, 4311,  902, 1727, 3165,\n",
       "         2764, 2060, 4577, 3803, 4327, 1104,   79, 3726, 2402, 3675, 2897, 2960,\n",
       "         2681, 1821, 4478, 4669, 3821, 2982, 3681, 2255, 2807,  242, 4089, 3398,\n",
       "         3696, 1491, 1953,  763, 4302, 2273, 3235, 1563, 3542, 2351, 1864, 3775,\n",
       "         2850, 2241, 1441, 1892, 1890, 1213, 1940, 3295, 1931, 2026, 1529, 1021,\n",
       "         1505, 1718, 2478, 2147,  682,  124,  923,  556,  953,  552, 2162, 4224,\n",
       "         3246, 4382, 1690, 2622,  948, 3780, 1848,  692, 2560, 1671, 1763,  121,\n",
       "         2538, 3477, 1757, 1513,  828, 2783, 3827, 1967, 1293, 4504, 2210, 1267,\n",
       "         1206, 4388, 2319, 2794, 4694, 2448, 2799,  475, 4423, 3358, 4194,   40,\n",
       "         3345, 3847, 2816, 3815,  989, 3312, 2352, 2120,  907, 4312, 3347,  374,\n",
       "          444, 4706, 1791, 3437, 1227, 3146, 3470, 4750,  852, 2045, 4566, 3831,\n",
       "         2556, 1944, 1438,  505, 1948, 1509,   71, 2250, 2428, 1795, 2795,  812,\n",
       "         2412, 2770, 2735, 4460, 2096, 3187, 4307, 4092, 2606, 2610, 4407, 2936,\n",
       "         1652, 2821, 2825, 4645, 1600, 3157,  813, 2542, 2907, 3843,  704, 3063,\n",
       "         3048,  350, 1966,  771, 4173,  901, 2489, 4143,   87,  281, 3801, 1875,\n",
       "         1614, 1684, 4446, 1067, 2089, 4160,  222,  230, 4772, 1608, 2647, 3357,\n",
       "          896, 1259, 4766,  337, 2483,  520, 4077, 4725,  447, 4436, 2626, 3860,\n",
       "          607,    5, 4502, 4764, 4684, 3906, 1782,  219, 3308, 1151, 2355, 3857,\n",
       "          210, 4612, 2440, 4644, 4551, 3929, 4234, 1673, 1979, 2913, 2338,  693,\n",
       "         1221, 3089, 1531, 3969, 1993, 3268,  734, 3794,  228,  950, 1370, 2776,\n",
       "         1980, 2950, 1826, 1015, 3270, 3482, 2652, 1325, 4543, 2688, 3055, 3363,\n",
       "         2247, 4847, 2882, 1218,  895, 2135, 3222, 1853, 3298, 2432, 1725, 3742,\n",
       "          113, 4469, 2306, 1825, 4718, 1626, 1442, 2481, 1613,  646, 2145, 2937,\n",
       "         3934, 3326, 1975,  265, 2369, 1569, 3833, 3244, 3006, 1368, 1657, 2832,\n",
       "         2993, 2114,  811, 3361, 3280, 3013, 2517, 1455, 1404, 4027,  421,  784,\n",
       "         3985,  623, 4775,  913,  243, 2141, 4534, 2019, 1998, 4690, 3387, 3286,\n",
       "         3850, 4216,  926,  304,  427, 4831, 1026]))"
      ]
     },
     "execution_count": 175,
     "metadata": {},
     "output_type": "execute_result"
    }
   ],
   "source": [
    "n_samples = X.shape[0]\n",
    "n_val = int(0.2 * n_samples)\n",
    "\n",
    "shuffled_indices = torch.randperm(n_samples)\n",
    "\n",
    "train_indices = shuffled_indices[:-n_val]\n",
    "val_indices = shuffled_indices[-n_val:]\n",
    "\n",
    "train_indices, val_indices"
   ]
  },
  {
   "cell_type": "code",
   "execution_count": 258,
   "metadata": {},
   "outputs": [],
   "source": [
    "X_train = X[train_indices]\n",
    "X_test = X[val_indices]\n",
    "\n",
    "y_train = y[train_indices].unsqueeze(1)\n",
    "y_test = y[val_indices].unsqueeze(1)\n"
   ]
  },
  {
   "cell_type": "code",
   "execution_count": 259,
   "metadata": {},
   "outputs": [
    {
     "name": "stdout",
     "output_type": "stream",
     "text": [
      "X_train shape: torch.Size([3919, 11])\n",
      "X_test shape: torch.Size([979, 11])\n",
      "y_train shape: torch.Size([3919, 1])\n",
      "y_test shape: torch.Size([979, 1])\n"
     ]
    }
   ],
   "source": [
    "print(\"X_train shape:\", X_train.shape)\n",
    "print(\"X_test shape:\", X_test.shape)\n",
    "print(\"y_train shape:\", y_train.shape)\n",
    "print(\"y_test shape:\", y_test.shape)"
   ]
  },
  {
   "cell_type": "code",
   "execution_count": 261,
   "metadata": {},
   "outputs": [],
   "source": [
    "def training_loop(n_epochs, optimizer, model, loss_fn, X_train, y_train, X_test, y_test):\n",
    "\tfor epoch in range(1, n_epochs + 1):\n",
    "\t\ttrain_pred = model(X_train)\n",
    "\t\tloss_train = loss_fn(train_pred, y_train)\n",
    "\t\t\n",
    "\t\ttest_pred = model(X_test)\n",
    "\t\tloss_val = loss_fn(test_pred, y_test)\n",
    "\t\t\n",
    "\t\toptimizer.zero_grad()\n",
    "\t\tloss_train.backward()\n",
    "\t\toptimizer.step()\n",
    "\n",
    "\t\tif epoch == 1 or epoch % 1000 == 0:\n",
    "\t\t\tprint(f\"Epoch {epoch}, Training loss {loss_train.item():.4f},\" f\" Validation loss {loss_val.item():.4f}\")"
   ]
  },
  {
   "cell_type": "code",
   "execution_count": 269,
   "metadata": {},
   "outputs": [
    {
     "data": {
      "text/plain": [
       "Sequential(\n",
       "  (hidden_linear): Linear(in_features=11, out_features=25, bias=True)\n",
       "  (hidden_activation): Tanh()\n",
       "  (output_linear): Linear(in_features=25, out_features=1, bias=True)\n",
       ")"
      ]
     },
     "execution_count": 269,
     "metadata": {},
     "output_type": "execute_result"
    }
   ],
   "source": [
    "from collections import OrderedDict\n",
    "\n",
    "seq_model = nn.Sequential(OrderedDict([('hidden_linear', nn.Linear(11,25)),\n",
    "\t\t\t\t\t\t\t\t\t   ('hidden_activation', nn.Tanh()),\n",
    "\t\t\t\t\t\t\t\t\t   ('output_linear', nn.Linear(25,1))]))\n",
    "seq_model"
   ]
  },
  {
   "cell_type": "code",
   "execution_count": 270,
   "metadata": {},
   "outputs": [
    {
     "name": "stdout",
     "output_type": "stream",
     "text": [
      "Epoch 1, Training loss 41.1591, Validation loss 41.4898\n",
      "Epoch 1000, Training loss 14.2136, Validation loss 14.3807\n",
      "Epoch 2000, Training loss 5.5158, Validation loss 5.6082\n",
      "Epoch 3000, Training loss 2.4518, Validation loss 2.5088\n",
      "Epoch 4000, Training loss 1.3714, Validation loss 1.4094\n",
      "Epoch 5000, Training loss 0.9891, Validation loss 1.0156\n",
      "Epoch 6000, Training loss 0.8534, Validation loss 0.8735\n",
      "Epoch 7000, Training loss 0.8053, Validation loss 0.8215\n",
      "Epoch 8000, Training loss 0.7882, Validation loss 0.8021\n",
      "Epoch 9000, Training loss 0.7820, Validation loss 0.7947\n",
      "Epoch 10000, Training loss 0.7798, Validation loss 0.7916\n",
      "Epoch 11000, Training loss 0.7788, Validation loss 0.7903\n",
      "Epoch 12000, Training loss 0.7783, Validation loss 0.7894\n",
      "Epoch 13000, Training loss 0.7777, Validation loss 0.7882\n",
      "Epoch 14000, Training loss 0.7767, Validation loss 0.7865\n",
      "Epoch 15000, Training loss 0.7753, Validation loss 0.7846\n",
      "Epoch 16000, Training loss 0.7637, Validation loss 0.7649\n",
      "Epoch 17000, Training loss 0.7561, Validation loss 0.7555\n",
      "Epoch 18000, Training loss 0.7491, Validation loss 0.7470\n",
      "Epoch 19000, Training loss 0.7425, Validation loss 0.7392\n",
      "Epoch 20000, Training loss 0.7365, Validation loss 0.7319\n"
     ]
    }
   ],
   "source": [
    "optimizer = optim.SGD(seq_model.parameters(), lr=1e-5)\n",
    "\n",
    "training_loop(\n",
    "\tn_epochs = 20000,\n",
    "\toptimizer = optimizer,\n",
    "\tmodel = seq_model,\n",
    "\tloss_fn = nn.MSELoss(),\n",
    "\tX_train = X_train,\n",
    "\ty_train = y_train,\n",
    "\tX_test = X_test,\n",
    "\ty_test = y_test)"
   ]
  },
  {
   "cell_type": "code",
   "execution_count": 271,
   "metadata": {},
   "outputs": [
    {
     "data": {
      "text/html": [
       "<div>\n",
       "<style scoped>\n",
       "    .dataframe tbody tr th:only-of-type {\n",
       "        vertical-align: middle;\n",
       "    }\n",
       "\n",
       "    .dataframe tbody tr th {\n",
       "        vertical-align: top;\n",
       "    }\n",
       "\n",
       "    .dataframe thead th {\n",
       "        text-align: right;\n",
       "    }\n",
       "</style>\n",
       "<table border=\"1\" class=\"dataframe\">\n",
       "  <thead>\n",
       "    <tr style=\"text-align: right;\">\n",
       "      <th></th>\n",
       "      <th>quality</th>\n",
       "      <th>Predicted</th>\n",
       "    </tr>\n",
       "  </thead>\n",
       "  <tbody>\n",
       "    <tr>\n",
       "      <th>1395</th>\n",
       "      <td>7</td>\n",
       "      <td>5.99</td>\n",
       "    </tr>\n",
       "    <tr>\n",
       "      <th>374</th>\n",
       "      <td>7</td>\n",
       "      <td>5.99</td>\n",
       "    </tr>\n",
       "    <tr>\n",
       "      <th>3292</th>\n",
       "      <td>5</td>\n",
       "      <td>5.46</td>\n",
       "    </tr>\n",
       "    <tr>\n",
       "      <th>3550</th>\n",
       "      <td>6</td>\n",
       "      <td>5.89</td>\n",
       "    </tr>\n",
       "    <tr>\n",
       "      <th>578</th>\n",
       "      <td>7</td>\n",
       "      <td>5.98</td>\n",
       "    </tr>\n",
       "    <tr>\n",
       "      <th>788</th>\n",
       "      <td>7</td>\n",
       "      <td>5.96</td>\n",
       "    </tr>\n",
       "    <tr>\n",
       "      <th>1094</th>\n",
       "      <td>5</td>\n",
       "      <td>5.56</td>\n",
       "    </tr>\n",
       "    <tr>\n",
       "      <th>3323</th>\n",
       "      <td>6</td>\n",
       "      <td>5.98</td>\n",
       "    </tr>\n",
       "    <tr>\n",
       "      <th>4585</th>\n",
       "      <td>6</td>\n",
       "      <td>5.96</td>\n",
       "    </tr>\n",
       "    <tr>\n",
       "      <th>1934</th>\n",
       "      <td>6</td>\n",
       "      <td>5.98</td>\n",
       "    </tr>\n",
       "    <tr>\n",
       "      <th>530</th>\n",
       "      <td>6</td>\n",
       "      <td>5.96</td>\n",
       "    </tr>\n",
       "    <tr>\n",
       "      <th>3008</th>\n",
       "      <td>7</td>\n",
       "      <td>5.77</td>\n",
       "    </tr>\n",
       "    <tr>\n",
       "      <th>952</th>\n",
       "      <td>6</td>\n",
       "      <td>5.97</td>\n",
       "    </tr>\n",
       "    <tr>\n",
       "      <th>528</th>\n",
       "      <td>6</td>\n",
       "      <td>5.97</td>\n",
       "    </tr>\n",
       "    <tr>\n",
       "      <th>2381</th>\n",
       "      <td>6</td>\n",
       "      <td>5.88</td>\n",
       "    </tr>\n",
       "  </tbody>\n",
       "</table>\n",
       "</div>"
      ],
      "text/plain": [
       "      quality  Predicted\n",
       "1395        7       5.99\n",
       "374         7       5.99\n",
       "3292        5       5.46\n",
       "3550        6       5.89\n",
       "578         7       5.98\n",
       "788         7       5.96\n",
       "1094        5       5.56\n",
       "3323        6       5.98\n",
       "4585        6       5.96\n",
       "1934        6       5.98\n",
       "530         6       5.96\n",
       "3008        7       5.77\n",
       "952         6       5.97\n",
       "528         6       5.97\n",
       "2381        6       5.88"
      ]
     },
     "execution_count": 271,
     "metadata": {},
     "output_type": "execute_result"
    }
   ],
   "source": [
    "import numpy as np\n",
    "\n",
    "test_indices = wine_data.sample(15)\n",
    "test_indices['Predicted']=seq_model(torch.tensor(np.array(test_indices.iloc[:,:-1].values,dtype=np.float32).reshape(15,11)))\\\n",
    "\t\t\t\t\t\t\t\t\t.detach()\\\n",
    "\t\t\t\t\t\t\t\t\t.numpy()\\\n",
    "\t\t\t\t\t\t\t\t\t.reshape(15,1)\\\n",
    "\t\t\t\t\t\t\t\t\t.round(2)\n",
    "test_indices.iloc[:,-2:]"
   ]
  }
 ],
 "metadata": {
  "kernelspec": {
   "display_name": "PyTorch",
   "language": "python",
   "name": "python3"
  },
  "language_info": {
   "codemirror_mode": {
    "name": "ipython",
    "version": 3
   },
   "file_extension": ".py",
   "mimetype": "text/x-python",
   "name": "python",
   "nbconvert_exporter": "python",
   "pygments_lexer": "ipython3",
   "version": "3.11.5"
  },
  "orig_nbformat": 4
 },
 "nbformat": 4,
 "nbformat_minor": 2
}
