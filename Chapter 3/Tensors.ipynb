{
 "cells": [
  {
   "cell_type": "markdown",
   "metadata": {},
   "source": [
    "# PyTorch Tensors"
   ]
  },
  {
   "cell_type": "markdown",
   "metadata": {},
   "source": [
    "- Each element is a 4 byte floating point number\n",
    "- Can utilize GPUs for fast operations\n",
    "- Values in tensors are allocated in chuncks of memory managed by torch.Storage\n",
    "  - one-dimensional array of numerical data"
   ]
  },
  {
   "cell_type": "code",
   "execution_count": 1,
   "metadata": {},
   "outputs": [],
   "source": [
    "import torch"
   ]
  },
  {
   "cell_type": "code",
   "execution_count": 2,
   "metadata": {},
   "outputs": [
    {
     "data": {
      "text/plain": [
       "tensor([1., 1., 1.])"
      ]
     },
     "execution_count": 2,
     "metadata": {},
     "output_type": "execute_result"
    }
   ],
   "source": [
    "# Initalize a tensor with 3 ones\n",
    "a = torch.ones(3)\n",
    "a"
   ]
  },
  {
   "cell_type": "code",
   "execution_count": 3,
   "metadata": {},
   "outputs": [
    {
     "data": {
      "text/plain": [
       "tensor(1.)"
      ]
     },
     "execution_count": 3,
     "metadata": {},
     "output_type": "execute_result"
    }
   ],
   "source": [
    "a[1]"
   ]
  },
  {
   "cell_type": "code",
   "execution_count": 4,
   "metadata": {},
   "outputs": [
    {
     "data": {
      "text/plain": [
       "tensor([[0., 0.],\n",
       "        [0., 0.],\n",
       "        [0., 0.]])"
      ]
     },
     "execution_count": 4,
     "metadata": {},
     "output_type": "execute_result"
    }
   ],
   "source": [
    "# Intialize tensor providing a tuple as the size\n",
    "points = torch.zeros(3,2)\n",
    "points"
   ]
  },
  {
   "cell_type": "code",
   "execution_count": 5,
   "metadata": {},
   "outputs": [
    {
     "data": {
      "text/plain": [
       "tensor([[4., 1.],\n",
       "        [5., 3.],\n",
       "        [2., 1.]])"
      ]
     },
     "execution_count": 5,
     "metadata": {},
     "output_type": "execute_result"
    }
   ],
   "source": [
    "# Construct a 2D triangle\n",
    "points = torch.tensor([[4.0, 1.0], [5.0, 3.0], [2.0, 1.0]])\n",
    "points"
   ]
  },
  {
   "cell_type": "code",
   "execution_count": 6,
   "metadata": {},
   "outputs": [
    {
     "data": {
      "text/plain": [
       "torch.Size([3, 2])"
      ]
     },
     "execution_count": 6,
     "metadata": {},
     "output_type": "execute_result"
    }
   ],
   "source": [
    "points.shape"
   ]
  },
  {
   "cell_type": "code",
   "execution_count": 8,
   "metadata": {},
   "outputs": [
    {
     "name": "stdout",
     "output_type": "stream",
     "text": [
      "tensor([[5., 3.],\n",
      "        [2., 1.]])\n"
     ]
    }
   ],
   "source": [
    "# All rows after the first, implicitly all columns\n",
    "print(points[1:])"
   ]
  },
  {
   "cell_type": "code",
   "execution_count": 9,
   "metadata": {},
   "outputs": [
    {
     "name": "stdout",
     "output_type": "stream",
     "text": [
      "tensor([[5., 3.],\n",
      "        [2., 1.]])\n"
     ]
    }
   ],
   "source": [
    "# All rows after the first, all column values\n",
    "print(points[1:, :])"
   ]
  },
  {
   "cell_type": "code",
   "execution_count": 10,
   "metadata": {},
   "outputs": [
    {
     "name": "stdout",
     "output_type": "stream",
     "text": [
      "tensor([5., 2.])\n"
     ]
    }
   ],
   "source": [
    "# All rows after the first, only the first column values\n",
    "print(points[1:, 0])"
   ]
  },
  {
   "cell_type": "code",
   "execution_count": 11,
   "metadata": {},
   "outputs": [
    {
     "name": "stdout",
     "output_type": "stream",
     "text": [
      "tensor([[[4., 1.],\n",
      "         [5., 3.],\n",
      "         [2., 1.]]])\n"
     ]
    }
   ],
   "source": [
    "# Add a dimension of size 1\n",
    "print(points[None])"
   ]
  },
  {
   "cell_type": "code",
   "execution_count": 13,
   "metadata": {},
   "outputs": [
    {
     "data": {
      "text/plain": [
       "tensor([[[[-0.5322,  0.8772, -0.8061, -0.9130, -0.3294],\n",
       "          [-0.7709,  0.8128,  1.6721,  0.2456,  1.9444],\n",
       "          [ 0.2071,  0.6276, -0.9516, -0.4035,  0.8575],\n",
       "          [ 0.1403, -0.9770, -0.3081, -0.4448, -1.3909],\n",
       "          [ 0.4786, -0.3332, -0.2640,  0.3662, -0.3592]],\n",
       "\n",
       "         [[ 0.5413,  0.0168,  0.3898,  0.6633, -2.3648],\n",
       "          [-2.3044, -0.5054, -0.6126,  0.1536, -0.4766],\n",
       "          [ 1.6514,  0.5578, -1.2248, -0.7890,  0.3331],\n",
       "          [-0.0640, -0.4744, -0.7596,  0.4438, -1.3697],\n",
       "          [ 1.8617, -0.1158, -2.2349, -1.8298, -0.9083]],\n",
       "\n",
       "         [[-1.0509, -1.2226,  0.6812,  0.2379,  0.3900],\n",
       "          [ 0.3483, -0.9094, -0.3305, -0.6770, -0.1387],\n",
       "          [ 0.4686, -0.2652,  0.7282,  0.2491,  0.6459],\n",
       "          [ 0.3178,  0.1015,  0.7621, -0.2223, -0.1075],\n",
       "          [-0.2586, -1.9047, -0.5189,  1.1505, -1.4378]]],\n",
       "\n",
       "\n",
       "        [[[-0.4072,  1.4511,  1.0675,  1.3645,  0.0182],\n",
       "          [-0.4996,  1.0942,  0.2072, -0.8047,  0.0799],\n",
       "          [ 0.4747, -0.7531, -0.0315, -0.4576, -1.4535],\n",
       "          [-0.8144, -0.1398, -0.3292,  0.2232,  0.7030],\n",
       "          [ 1.4136,  0.5559, -1.0283,  1.1532,  1.0462]],\n",
       "\n",
       "         [[ 0.3875, -0.0085,  1.0121,  0.1941, -1.2489],\n",
       "          [ 0.1652,  0.3913,  0.6242,  0.0618,  0.0234],\n",
       "          [ 0.7121,  0.2397,  0.0337, -1.4190,  1.7424],\n",
       "          [-0.7177,  0.5714,  0.5713, -1.3263,  1.6528],\n",
       "          [ 1.3239,  0.1305,  0.9639,  0.9547, -0.0631]],\n",
       "\n",
       "         [[-0.1014,  1.1379,  1.5523,  1.3051, -0.9649],\n",
       "          [-0.3939, -0.8420, -0.1484, -1.0613,  0.6051],\n",
       "          [-0.5551, -0.9461,  0.3051, -0.2497, -0.4555],\n",
       "          [-0.3714, -1.2522, -0.4231, -0.1628, -0.4359],\n",
       "          [-0.1268, -0.9903,  0.6757,  0.1035,  0.2944]]]])"
      ]
     },
     "execution_count": 13,
     "metadata": {},
     "output_type": "execute_result"
    }
   ],
   "source": [
    "# Ex. shape [batch, channels, rows, columns]\n",
    "batch_t = torch.randn(2, 3, 5, 5)\n",
    "batch_t"
   ]
  },
  {
   "cell_type": "code",
   "execution_count": 14,
   "metadata": {},
   "outputs": [
    {
     "name": "stderr",
     "output_type": "stream",
     "text": [
      "C:\\Users\\Thomas\\AppData\\Local\\Temp\\ipykernel_19592\\359375919.py:2: UserWarning: Named tensors and all their associated APIs are an experimental feature and subject to change. Please do not use them for anything important until they are released as stable. (Triggered internally at ..\\c10/core/TensorImpl.h:1791.)\n",
      "  weights_named = torch.tensor([0.2126, 0.7152, 0.0722], names = ['channels'])\n"
     ]
    },
    {
     "data": {
      "text/plain": [
       "tensor([0.2126, 0.7152, 0.0722], names=('channels',))"
      ]
     },
     "execution_count": 14,
     "metadata": {},
     "output_type": "execute_result"
    }
   ],
   "source": [
    "# Creating a named tensor\n",
    "weights_named = torch.tensor([0.2126, 0.7152, 0.0722], names = ['channels'])\n",
    "weights_named"
   ]
  },
  {
   "cell_type": "code",
   "execution_count": 20,
   "metadata": {},
   "outputs": [
    {
     "data": {
      "text/plain": [
       "tensor([[1, 1],\n",
       "        [1, 1],\n",
       "        [1, 1],\n",
       "        [1, 1],\n",
       "        [1, 1],\n",
       "        [1, 1],\n",
       "        [1, 1],\n",
       "        [1, 1],\n",
       "        [1, 1],\n",
       "        [1, 1]], dtype=torch.int16)"
      ]
     },
     "execution_count": 20,
     "metadata": {},
     "output_type": "execute_result"
    }
   ],
   "source": [
    "# Specify the data type \n",
    "double_points = torch.ones(10, 2, dtype = torch.short)\n",
    "double_points"
   ]
  },
  {
   "cell_type": "code",
   "execution_count": 21,
   "metadata": {},
   "outputs": [
    {
     "data": {
      "text/plain": [
       "tensor([[0, 0],\n",
       "        [0, 0],\n",
       "        [0, 0],\n",
       "        [0, 0],\n",
       "        [0, 0],\n",
       "        [0, 0],\n",
       "        [0, 0],\n",
       "        [0, 0],\n",
       "        [0, 0],\n",
       "        [0, 0]], dtype=torch.int16)"
      ]
     },
     "execution_count": 21,
     "metadata": {},
     "output_type": "execute_result"
    }
   ],
   "source": [
    "# Casting the data type\n",
    "double_points = torch.zeros(10, 2).to(torch.short)\n",
    "double_points"
   ]
  },
  {
   "cell_type": "code",
   "execution_count": 25,
   "metadata": {},
   "outputs": [
    {
     "data": {
      "text/plain": [
       "(torch.Size([3, 2]), torch.Size([2, 3]))"
      ]
     },
     "execution_count": 25,
     "metadata": {},
     "output_type": "execute_result"
    }
   ],
   "source": [
    "# Transpose a tensor\n",
    "a = torch.ones(3,2)\n",
    "a_t = torch.transpose(a, 0, 1)\n",
    "a.shape, a_t.shape"
   ]
  },
  {
   "cell_type": "code",
   "execution_count": 28,
   "metadata": {},
   "outputs": [
    {
     "data": {
      "text/plain": [
       " 4.0\n",
       " 1.0\n",
       " 5.0\n",
       " 3.0\n",
       " 2.0\n",
       " 1.0\n",
       "[torch.storage.TypedStorage(dtype=torch.float32, device=cpu) of size 6]"
      ]
     },
     "execution_count": 28,
     "metadata": {},
     "output_type": "execute_result"
    }
   ],
   "source": [
    "# Accessing storage\n",
    "points = torch.tensor([[4.0, 1.0], [5.0, 3.0], [2.0, 1.0]])\n",
    "points.storage()"
   ]
  },
  {
   "cell_type": "code",
   "execution_count": 29,
   "metadata": {},
   "outputs": [
    {
     "data": {
      "text/plain": [
       "4.0"
      ]
     },
     "execution_count": 29,
     "metadata": {},
     "output_type": "execute_result"
    }
   ],
   "source": [
    "points_storage = points.storage()\n",
    "points_storage[0]"
   ]
  },
  {
   "cell_type": "code",
   "execution_count": 30,
   "metadata": {},
   "outputs": [
    {
     "data": {
      "text/plain": [
       "tensor([[2., 1.],\n",
       "        [5., 3.],\n",
       "        [2., 1.]])"
      ]
     },
     "execution_count": 30,
     "metadata": {},
     "output_type": "execute_result"
    }
   ],
   "source": [
    "# Modifying tensor through storage\n",
    "points = torch.tensor([[4.0, 1.0], [5.0, 3.0], [2.0, 1.0]])\n",
    "points_storage = points.storage()\n",
    "points_storage[0] = 2.0\n",
    "points"
   ]
  },
  {
   "cell_type": "code",
   "execution_count": 31,
   "metadata": {},
   "outputs": [
    {
     "data": {
      "text/plain": [
       "tensor([[0., 0.],\n",
       "        [0., 0.],\n",
       "        [0., 0.]])"
      ]
     },
     "execution_count": 31,
     "metadata": {},
     "output_type": "execute_result"
    }
   ],
   "source": [
    "# Modifying the tensor inplace\n",
    "a = torch.ones(3,2)\n",
    "a.zero_()\n",
    "a"
   ]
  },
  {
   "cell_type": "code",
   "execution_count": null,
   "metadata": {},
   "outputs": [],
   "source": []
  }
 ],
 "metadata": {
  "kernelspec": {
   "display_name": "PyTorch",
   "language": "python",
   "name": "python3"
  },
  "language_info": {
   "codemirror_mode": {
    "name": "ipython",
    "version": 3
   },
   "file_extension": ".py",
   "mimetype": "text/x-python",
   "name": "python",
   "nbconvert_exporter": "python",
   "pygments_lexer": "ipython3",
   "version": "3.11.5"
  },
  "orig_nbformat": 4
 },
 "nbformat": 4,
 "nbformat_minor": 2
}
